{
  "cells": [
    {
      "cell_type": "markdown",
      "metadata": {
        "id": "view-in-github",
        "colab_type": "text"
      },
      "source": [
        "<a href=\"https://colab.research.google.com/github/siyosmith/star-pattern/blob/main/Untitled26.ipynb\" target=\"_parent\"><img src=\"https://colab.research.google.com/assets/colab-badge.svg\" alt=\"Open In Colab\"/></a>"
      ]
    },
    {
      "cell_type": "code",
      "execution_count": null,
      "metadata": {
        "colab": {
          "base_uri": "https://localhost:8080/"
        },
        "id": "Kot6CwjiU4ba",
        "outputId": "bf45e42c-1aab-4b00-aa56-344b34f0068b"
      },
      "outputs": [
        {
          "name": "stdout",
          "output_type": "stream",
          "text": [
            "* * * * * * * * * \n",
            "  * * * * * * * \n",
            "    * * * * * \n",
            "      * * * \n",
            "        * \n"
          ]
        }
      ],
      "source": [
        "n=5\n",
        "for i in range(n,0,-1):\n",
        "  for j in range(n-i):\n",
        "    print(\" \",end=\" \")\n",
        "  for j in range (2*i-1):\n",
        "      print(\"*\",end=\" \")\n",
        "  print()\n"
      ]
    },
    {
      "cell_type": "code",
      "execution_count": null,
      "metadata": {
        "id": "YKsSgE8NbEd6",
        "colab": {
          "base_uri": "https://localhost:8080/"
        },
        "outputId": "b200f1ac-a8e5-4ba8-ece4-d8241c8463c3"
      },
      "outputs": [
        {
          "output_type": "stream",
          "name": "stdout",
          "text": [
            "* * * * * * * * * * \n",
            "* * * *     * * * * \n",
            "* * *         * * * \n",
            "* *             * * \n",
            "*                 * \n",
            "            \n",
            "            \n",
            "            \n",
            "            \n",
            "            \n"
          ]
        }
      ],
      "source": [
        "n=5\n",
        "for i in range(n,0,-1):\n",
        "    for j in range(i,0,-1):\n",
        "      print(\"*\",end=\" \")\n",
        "    for j in range(2*(n-i)):\n",
        "      print(\" \",end=\" \")\n",
        "    for j in range(i,0,-1):\n",
        "      print(\"*\",end=\" \")\n",
        "    print()\n",
        "   for i in range(1,n+1):\n",
        "     for j in range(i,0):\n",
        "      print(\"*\",end=\" \")\n",
        "    for j in range(2*(n-2)):\n",
        "      print(\" \",end=\" \")\n",
        "    for j in range(i,0):\n",
        "      print(\"*\",end=\" \")\n",
        "    print()"
      ]
    },
    {
      "cell_type": "code",
      "source": [
        "n=5\n",
        "for i in range(n,0,-1):\n",
        "  for j in range(i,0,-1):\n",
        "    print(\"*\",end=\" \")\n",
        "  for j in range(2*n-2):\n",
        "    print(\" \",end=\" \")\n",
        "  print()"
      ],
      "metadata": {
        "colab": {
          "base_uri": "https://localhost:8080/"
        },
        "id": "4qHqoVIbbs0B",
        "outputId": "fbd26e55-a580-402f-fcbc-e7685d53c023"
      },
      "execution_count": null,
      "outputs": [
        {
          "output_type": "stream",
          "name": "stdout",
          "text": [
            "* * * * *                 \n",
            "* * * *                 \n",
            "* * *                 \n",
            "* *                 \n",
            "*                 \n"
          ]
        }
      ]
    },
    {
      "cell_type": "code",
      "execution_count": null,
      "metadata": {
        "colab": {
          "base_uri": "https://localhost:8080/"
        },
        "id": "1CfodGd7brTC",
        "outputId": "8c1d9ec4-a00d-4ad3-bada-2c04b2df3923"
      },
      "outputs": [
        {
          "data": {
            "text/plain": [
              "1.4142135623730951"
            ]
          },
          "execution_count": 12,
          "metadata": {},
          "output_type": "execute_result"
        }
      ],
      "source": [
        "sd=np.std(my_array)\n",
        "sd"
      ]
    },
    {
      "cell_type": "code",
      "execution_count": null,
      "metadata": {
        "id": "aQlUixzqc4Im",
        "colab": {
          "base_uri": "https://localhost:8080/"
        },
        "outputId": "0d92a1dc-dad7-4ce3-bfcf-6024eaf37c5d"
      },
      "outputs": [
        {
          "output_type": "stream",
          "name": "stdout",
          "text": [
            "* * * * * \n",
            "*       * \n",
            "*       * \n",
            "*       * \n",
            "* * * * * \n"
          ]
        }
      ],
      "source": [
        "n=5\n",
        "for i in range(1,n+1):\n",
        "  for j in range(1,n+1):\n",
        "    if i==1 or i==n or j==1 or j==n:\n",
        "      print(\"*\",end=\" \")\n",
        "    else:\n",
        "      print(\" \",end=\" \")\n",
        "  print()"
      ]
    },
    {
      "cell_type": "code",
      "source": [
        "n=5\n",
        "for i in range(n):\n",
        "  for j in range(n):\n",
        "    print(\"*\",end=\" \")\n",
        "  print()"
      ],
      "metadata": {
        "colab": {
          "base_uri": "https://localhost:8080/"
        },
        "id": "MvC4MMFzwdaN",
        "outputId": "e38e9248-b7e2-4db2-b315-76f6c8fc73c9"
      },
      "execution_count": null,
      "outputs": [
        {
          "output_type": "stream",
          "name": "stdout",
          "text": [
            "* * * * * \n",
            "* * * * * \n",
            "* * * * * \n",
            "* * * * * \n",
            "* * * * * \n"
          ]
        }
      ]
    },
    {
      "cell_type": "code",
      "source": [
        "n=5\n",
        "for i in range(1,n+1):\n",
        "  for j in range(i-1):\n",
        "    print(\" \",end=\" \")\n",
        "  for j in range(0,n):\n",
        "    print(\"*\",end=\" \")\n",
        "  print()"
      ],
      "metadata": {
        "colab": {
          "base_uri": "https://localhost:8080/"
        },
        "id": "DyZWZtzxxbVC",
        "outputId": "a4a4851f-3ba9-4abb-d37a-9da0c9f111d9"
      },
      "execution_count": null,
      "outputs": [
        {
          "output_type": "stream",
          "name": "stdout",
          "text": [
            "* * * * * \n",
            "  * * * * * \n",
            "    * * * * * \n",
            "      * * * * * \n",
            "        * * * * * \n"
          ]
        }
      ]
    },
    {
      "cell_type": "code",
      "source": [
        "n=5\n",
        "for i in range(1,n+1):\n",
        "  for j in range(n-i):\n",
        "    print(\" \",end=\"\")\n",
        "  for j in range(i):\n",
        "    print(\"* \",end=\"\")\n",
        "  print()"
      ],
      "metadata": {
        "colab": {
          "base_uri": "https://localhost:8080/"
        },
        "id": "GgK3styhWlZh",
        "outputId": "33b4ca12-2183-4c80-acad-9e9ddf0b9f2b"
      },
      "execution_count": null,
      "outputs": [
        {
          "output_type": "stream",
          "name": "stdout",
          "text": [
            "    * \n",
            "   * * \n",
            "  * * * \n",
            " * * * * \n",
            "* * * * * \n"
          ]
        }
      ]
    },
    {
      "cell_type": "code",
      "source": [
        "n=5\n",
        "for i in range(n,0,-1):\n",
        "  for j in range(n-i):\n",
        "    print(\" \",end=\"\")\n",
        "  for j in range(2*i-1):\n",
        "    print(\"*\",end=\"\")\n",
        "  print()"
      ],
      "metadata": {
        "colab": {
          "base_uri": "https://localhost:8080/"
        },
        "id": "dXsjP9j5aPrk",
        "outputId": "9263efcb-cb77-469e-db6c-9a26d89888f7"
      },
      "execution_count": null,
      "outputs": [
        {
          "output_type": "stream",
          "name": "stdout",
          "text": [
            "*********\n",
            " *******\n",
            "  *****\n",
            "   ***\n",
            "    *\n"
          ]
        }
      ]
    },
    {
      "cell_type": "code",
      "source": [
        "n=5\n",
        "for i in range(1,n+1):\n",
        "  for j in range(n):\n",
        "    print(\"*\",end=\" \")\n",
        "  print()\n",
        "\n"
      ],
      "metadata": {
        "colab": {
          "base_uri": "https://localhost:8080/"
        },
        "id": "B1D0bLCtKo15",
        "outputId": "30605a88-9d28-487d-b3dc-856f06b04f94"
      },
      "execution_count": null,
      "outputs": [
        {
          "output_type": "stream",
          "name": "stdout",
          "text": [
            "* * * * * \n",
            "* * * * * \n",
            "* * * * * \n",
            "* * * * * \n",
            "* * * * * \n"
          ]
        }
      ]
    },
    {
      "cell_type": "code",
      "source": [
        "n=5\n",
        "for i in range(1,n+1):\n",
        "  for j in range(i):\n",
        "    print(\"*\",end=\" \")\n",
        "  print()"
      ],
      "metadata": {
        "colab": {
          "base_uri": "https://localhost:8080/"
        },
        "id": "W4MYWdWoM5Kw",
        "outputId": "f6cd5cef-ca8e-419a-ddac-10441e323a0a"
      },
      "execution_count": null,
      "outputs": [
        {
          "output_type": "stream",
          "name": "stdout",
          "text": [
            "* \n",
            "* * \n",
            "* * * \n",
            "* * * * \n",
            "* * * * * \n"
          ]
        }
      ]
    },
    {
      "cell_type": "code",
      "source": [
        "n=5\n",
        "for i in range(1,n+1):\n",
        "  for j in range(i):\n",
        "    print(i,end=\" \")\n",
        "  print()"
      ],
      "metadata": {
        "colab": {
          "base_uri": "https://localhost:8080/"
        },
        "id": "AxJT15cdQoLO",
        "outputId": "82b49bfa-25f1-4721-98b0-a6e3a48aa190"
      },
      "execution_count": null,
      "outputs": [
        {
          "output_type": "stream",
          "name": "stdout",
          "text": [
            "1 \n",
            "2 2 \n",
            "3 3 3 \n",
            "4 4 4 4 \n",
            "5 5 5 5 5 \n"
          ]
        }
      ]
    },
    {
      "cell_type": "code",
      "source": [
        "n=5\n",
        "for i in range(1,n+1):\n",
        "  for j in range(1,i+1):\n",
        "    print(j,end=\" \")\n",
        "  print()"
      ],
      "metadata": {
        "colab": {
          "base_uri": "https://localhost:8080/"
        },
        "id": "EbnaLXBwSH5F",
        "outputId": "512e2352-f3b9-4780-aab0-2dc632207a7d"
      },
      "execution_count": null,
      "outputs": [
        {
          "output_type": "stream",
          "name": "stdout",
          "text": [
            "1 \n",
            "1 2 \n",
            "1 2 3 \n",
            "1 2 3 4 \n",
            "1 2 3 4 5 \n"
          ]
        }
      ]
    },
    {
      "cell_type": "code",
      "source": [
        "n=5\n",
        "for i in range(1,n+1):\n",
        "  for j in range(n-i):\n",
        "    print(\" \",end=\" \")\n",
        "  for j in range(i):\n",
        "    print(\"*\",end=\" \")\n",
        "  print()"
      ],
      "metadata": {
        "colab": {
          "base_uri": "https://localhost:8080/"
        },
        "id": "zNM6VsHnS4S3",
        "outputId": "ee7a5319-4735-4f24-a93e-7cad0d8a642f"
      },
      "execution_count": null,
      "outputs": [
        {
          "output_type": "stream",
          "name": "stdout",
          "text": [
            "        * \n",
            "      * * \n",
            "    * * * \n",
            "  * * * * \n",
            "* * * * * \n"
          ]
        }
      ]
    },
    {
      "cell_type": "code",
      "source": [
        "n=5\n",
        "for i in range(n,0,-1):\n",
        "  for j in range(i):\n",
        "    print(\"*\",end=\" \")\n",
        "  print()"
      ],
      "metadata": {
        "colab": {
          "base_uri": "https://localhost:8080/"
        },
        "id": "VIH1bb7kPIXk",
        "outputId": "56a3ca16-f858-4b6c-fd90-c144684f0b52"
      },
      "execution_count": null,
      "outputs": [
        {
          "output_type": "stream",
          "name": "stdout",
          "text": [
            "* * * * * \n",
            "* * * * \n",
            "* * * \n",
            "* * \n",
            "* \n"
          ]
        }
      ]
    },
    {
      "cell_type": "code",
      "source": [],
      "metadata": {
        "id": "YHLgPh9dU6vL"
      },
      "execution_count": null,
      "outputs": []
    }
  ],
  "metadata": {
    "colab": {
      "provenance": [],
      "authorship_tag": "ABX9TyM3sxQUzTGPVjE5W5FhwA/T",
      "include_colab_link": true
    },
    "kernelspec": {
      "display_name": "Python 3",
      "name": "python3"
    },
    "language_info": {
      "name": "python"
    }
  },
  "nbformat": 4,
  "nbformat_minor": 0
}